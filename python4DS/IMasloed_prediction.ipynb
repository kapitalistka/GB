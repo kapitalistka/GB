{
 "cells": [
  {
   "cell_type": "code",
   "execution_count": null,
   "metadata": {},
   "outputs": [],
   "source": [
    "import numpy as np\n",
    "import pandas as pd\n",
    "from sklearn.model_selection import train_test_split\n",
    "import matplotlib.pyplot as plt\n",
    "# import seaborn as sns\n",
    "import warnings\n",
    "\n",
    "warnings.filterwarnings('ignore')\n",
    "\n",
    "pd.options.display.max_columns = 100\n",
    "%matplotlib inline"
   ]
  },
  {
   "cell_type": "markdown",
   "metadata": {},
   "source": [
    "## prepare data"
   ]
  },
  {
   "cell_type": "code",
   "execution_count": null,
   "metadata": {},
   "outputs": [],
   "source": [
    "data = pd.read_csv('input/train.csv')"
   ]
  },
  {
   "cell_type": "code",
   "execution_count": null,
   "metadata": {},
   "outputs": [],
   "source": [
    "train, valid = train_test_split(data, test_size=0.3, random_state=42)"
   ]
  },
  {
   "cell_type": "code",
   "execution_count": null,
   "metadata": {},
   "outputs": [],
   "source": [
    "train.head(20)"
   ]
  },
  {
   "cell_type": "code",
   "execution_count": null,
   "metadata": {},
   "outputs": [],
   "source": [
    "train.describe()"
   ]
  },
  {
   "cell_type": "code",
   "execution_count": null,
   "metadata": {
    "scrolled": false
   },
   "outputs": [],
   "source": [
    "train.info()"
   ]
  },
  {
   "cell_type": "code",
   "execution_count": null,
   "metadata": {},
   "outputs": [],
   "source": [
    "def add_mean_price(df):\n",
    "\n",
    "    mean_price_all = train['Price'].mean()\n",
    "    mean_price = train.groupby(['DistrictId', 'Rooms'], as_index=False)[['Price']].mean().rename(columns={'Price':'mean_price'})\n",
    "    mean_price_by_rooms = train.groupby('Rooms', as_index=False)[['Price']].mean().rename(columns={'Price':'Mean_price_by_rooms'})\n",
    "    \n",
    "    df = pd.merge(df, mean_price_by_rooms, on='Rooms', how='left')\n",
    "    df['Mean_price_by_rooms'] = df['Mean_price_by_rooms'].fillna(mean_price_all)\n",
    "    df = pd.merge(df, mean_price, on=['DistrictId', 'Rooms'], how='left')\n",
    "   \n",
    "    return df    \n",
    "   "
   ]
  },
  {
   "cell_type": "code",
   "execution_count": null,
   "metadata": {},
   "outputs": [],
   "source": [
    "def clear_Healthcare_1(df):\n",
    "    Healthcare_1_mean=train['Healthcare_1'].mean()\n",
    "    Healthcare_1_mean_DistrictId=train.groupby('DistrictId', as_index=False)[['Healthcare_1']].mean()\n",
    "    Healthcare_1_mean_DistrictId['Healthcare_1']=Healthcare_1_mean_DistrictId['Healthcare_1'].fillna(Healthcare_1_mean)\n",
    "    Healthcare_1_mean_DistrictId=Healthcare_1_mean_DistrictId.rename(columns={'Healthcare_1':'Healthcare_1_mean'})\n",
    "\n",
    "    clear_train=df\n",
    "    clear_train=pd.merge(clear_train,Healthcare_1_mean_DistrictId,on='DistrictId',how='left')\n",
    "    clear_train['Healthcare_1']=clear_train['Healthcare_1'].fillna(clear_train['Healthcare_1_mean'])\n",
    "    clear_train['Healthcare_1']=clear_train['Healthcare_1'].fillna(Healthcare_1_mean)\n",
    "    return clear_train\n",
    "    "
   ]
  },
  {
   "cell_type": "code",
   "execution_count": null,
   "metadata": {},
   "outputs": [],
   "source": [
    "def add_floor_rate(df):\n",
    "    clear_train=df\n",
    "    clear_train['Is_first_last']=1   \n",
    "    clear_train.loc[(clear_train['Floor']==clear_train['HouseFloor']) | (clear_train['Floor']<2),'Is_first_last']=0\n",
    "    return clear_train"
   ]
  },
  {
   "cell_type": "code",
   "execution_count": null,
   "metadata": {},
   "outputs": [],
   "source": [
    "def prepare_data(data):\n",
    "    clear_data=data\n",
    "    clear_data=add_mean_price(clear_data)\n",
    "    clear_data=add_floor_rate(clear_data)\n",
    "    clear_data=clear_Healthcare_1(clear_data)\n",
    "    return clear_data\n",
    "    "
   ]
  },
  {
   "cell_type": "code",
   "execution_count": null,
   "metadata": {},
   "outputs": [],
   "source": [
    "clear_train=prepare_data(train)\n",
    "clear_valid=prepare_data(valid)"
   ]
  },
  {
   "cell_type": "code",
   "execution_count": null,
   "metadata": {
    "scrolled": true
   },
   "outputs": [],
   "source": [
    "clear_train.info()"
   ]
  },
  {
   "cell_type": "markdown",
   "metadata": {},
   "source": [
    "## Model"
   ]
  },
  {
   "cell_type": "code",
   "execution_count": null,
   "metadata": {},
   "outputs": [],
   "source": [
    "feats = ['Rooms', 'Square', \n",
    "         'KitchenSquare', \n",
    "         'Floor', \n",
    "#          'HouseFloor', \n",
    "         'HouseYear',\n",
    "         'Ecology_1',\n",
    "         'Social_1',  'Social_2',  'Social_3',\n",
    "         'Shops_1','Mean_price_by_rooms',\n",
    "         'Is_first_last','Healthcare_1' ]"
   ]
  },
  {
   "cell_type": "markdown",
   "metadata": {},
   "source": [
    "# ---------------------------------------------------------"
   ]
  },
  {
   "cell_type": "code",
   "execution_count": null,
   "metadata": {},
   "outputs": [],
   "source": [
    "from sklearn.metrics import r2_score as r2"
   ]
  },
  {
   "cell_type": "code",
   "execution_count": null,
   "metadata": {},
   "outputs": [],
   "source": [
    "def evaluate_model(model, train, valid, metric, feats, target, max_depth):\n",
    "    dtr = model(max_depth=max_depth, random_state=42)\n",
    "    dtr.fit(train.loc[:, feats], train[target])\n",
    "    y_pred_train = dtr.predict(train.loc[:, feats])\n",
    "    y_pred_valid = dtr.predict(valid.loc[:, feats])\n",
    "    metric_train = metric(train[target], y_pred_train)\n",
    "    metric_valid = metric(valid[target], y_pred_valid)\n",
    "    return metric_train, metric_valid"
   ]
  },
  {
   "cell_type": "code",
   "execution_count": null,
   "metadata": {},
   "outputs": [],
   "source": [
    "def check_param(min_value, max_value, model, train=clear_train, valid=clear_valid, metric=r2, feats=feats, \n",
    "                             target='Price'):\n",
    "    max_depth_arr = []\n",
    "    metric_train_arr = []\n",
    "    metric_valid_arr = []\n",
    "\n",
    "    for i in range(min_value, max_value+1):\n",
    "        res = evaluate_model(model, train, valid, metric, feats, \n",
    "                             target, max_depth=i)\n",
    "        max_depth_arr.append(i)\n",
    "        metric_train_arr.append(res[0])\n",
    "        metric_valid_arr.append(res[1])\n",
    "    return max_depth_arr, metric_train_arr, metric_valid_arr"
   ]
  },
  {
   "cell_type": "code",
   "execution_count": null,
   "metadata": {},
   "outputs": [],
   "source": [
    "from sklearn.ensemble import RandomForestRegressor as RFR"
   ]
  },
  {
   "cell_type": "code",
   "execution_count": null,
   "metadata": {},
   "outputs": [],
   "source": [
    "max_depth_arr, metric_train_arr, metric_valid_arr = check_param(min_value=1, max_value=13, model=RFR)"
   ]
  },
  {
   "cell_type": "code",
   "execution_count": null,
   "metadata": {},
   "outputs": [],
   "source": [
    "plt.plot(max_depth_arr, metric_train_arr)\n",
    "plt.plot(max_depth_arr, metric_valid_arr)"
   ]
  },
  {
   "cell_type": "code",
   "execution_count": null,
   "metadata": {},
   "outputs": [],
   "source": [
    "np.max(metric_valid_arr)"
   ]
  },
  {
   "cell_type": "code",
   "execution_count": null,
   "metadata": {},
   "outputs": [],
   "source": [
    "np.max(metric_valid_arr)"
   ]
  },
  {
   "cell_type": "code",
   "execution_count": null,
   "metadata": {},
   "outputs": [],
   "source": [
    "metric_valid_arr"
   ]
  },
  {
   "cell_type": "code",
   "execution_count": null,
   "metadata": {},
   "outputs": [],
   "source": [
    "model = RFR(max_depth=11, random_state=42)\n",
    "model.fit(clear_train.loc[:, feats], clear_train['Price'])"
   ]
  },
  {
   "cell_type": "markdown",
   "metadata": {},
   "source": [
    "# R2"
   ]
  },
  {
   "cell_type": "code",
   "execution_count": null,
   "metadata": {},
   "outputs": [],
   "source": [
    "from sklearn.metrics import r2_score as r2"
   ]
  },
  {
   "cell_type": "code",
   "execution_count": null,
   "metadata": {},
   "outputs": [],
   "source": [
    "y_pred_valid = model.predict(clear_valid.loc[:, feats])"
   ]
  },
  {
   "cell_type": "code",
   "execution_count": null,
   "metadata": {},
   "outputs": [],
   "source": [
    "r2(clear_valid['Price'], y_pred_valid)"
   ]
  },
  {
   "cell_type": "markdown",
   "metadata": {},
   "source": [
    "# Test"
   ]
  },
  {
   "cell_type": "code",
   "execution_count": null,
   "metadata": {},
   "outputs": [],
   "source": [
    "test = pd.read_csv('input/test.csv')"
   ]
  },
  {
   "cell_type": "code",
   "execution_count": null,
   "metadata": {},
   "outputs": [],
   "source": [
    "clear_test = prepare_data(test)\n"
   ]
  },
  {
   "cell_type": "code",
   "execution_count": null,
   "metadata": {},
   "outputs": [],
   "source": [
    "clear_test.info()"
   ]
  },
  {
   "cell_type": "code",
   "execution_count": null,
   "metadata": {},
   "outputs": [],
   "source": [
    "clear_test['Price'] = model.predict(clear_test.loc[:, feats])"
   ]
  },
  {
   "cell_type": "code",
   "execution_count": null,
   "metadata": {},
   "outputs": [],
   "source": [
    "clear_test.head()"
   ]
  },
  {
   "cell_type": "code",
   "execution_count": null,
   "metadata": {},
   "outputs": [],
   "source": [
    "clear_test.loc[:, ['Id', 'Price']].to_csv('IMasloed_predictions.csv', index=None)"
   ]
  }
 ],
 "metadata": {
  "kernelspec": {
   "display_name": "Python 3",
   "language": "python",
   "name": "python3"
  },
  "language_info": {
   "codemirror_mode": {
    "name": "ipython",
    "version": 3
   },
   "file_extension": ".py",
   "mimetype": "text/x-python",
   "name": "python",
   "nbconvert_exporter": "python",
   "pygments_lexer": "ipython3",
   "version": "3.7.3"
  }
 },
 "nbformat": 4,
 "nbformat_minor": 2
}
