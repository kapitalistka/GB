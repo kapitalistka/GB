{
 "cells": [
  {
   "cell_type": "code",
   "execution_count": 4,
   "metadata": {},
   "outputs": [],
   "source": [
    "import numpy as np\n",
    "from math import factorial as fc"
   ]
  },
  {
   "cell_type": "code",
   "execution_count": 5,
   "metadata": {},
   "outputs": [],
   "source": [
    "def combinations(k: int, n:int):\n",
    "    return fc(n) // ( fc(k) * (fc(n-k)))"
   ]
  },
  {
   "cell_type": "markdown",
   "metadata": {},
   "source": [
    "Задача 1\n",
    "\n",
    "Контрольная работа состоит из пяти вопросов. На каждый вопрос приведено четыре варианта ответа, один из которых правильный. Составьте закон распределения числа правильных ответов при простом угадывании. Найдите M(X), D(X).\n",
    "\n"
   ]
  },
  {
   "cell_type": "code",
   "execution_count": 12,
   "metadata": {},
   "outputs": [],
   "source": [
    "def p_bernully(n:int, p:float, k:int):\n",
    "    return combinations(k,n) * (p ** k) * ((1-p)** (n-k))\n",
    "    "
   ]
  },
  {
   "cell_type": "code",
   "execution_count": 13,
   "metadata": {},
   "outputs": [
    {
     "data": {
      "text/plain": [
       "(0.2373046875, 0.3955078125, 0.087890625, 0.0146484375, 0.0009765625)"
      ]
     },
     "execution_count": 13,
     "metadata": {},
     "output_type": "execute_result"
    }
   ],
   "source": [
    "p = 0.25\n",
    "n = 5\n",
    "\n",
    "#Биномиальный закон распределения:\n",
    "p0 = p_bernully(n, p, 0)\n",
    "p1 = p_bernully(n, p, 1)\n",
    "p2 = p_bernully(n, p, 2)\n",
    "p3 = p_bernully(n, p, 3)\n",
    "p4 = p_bernully(n, p, 4)\n",
    "p5 = p_bernully(n, p, 5)\n",
    "p0, p1,p3, p4, p5"
   ]
  },
  {
   "cell_type": "code",
   "execution_count": 9,
   "metadata": {},
   "outputs": [
    {
     "data": {
      "text/plain": [
       "(1.25, 0.9375)"
      ]
     },
     "execution_count": 9,
     "metadata": {},
     "output_type": "execute_result"
    }
   ],
   "source": [
    "MX = n * p \n",
    "DX = n * p * (1 - p)\n",
    "MX, DX"
   ]
  },
  {
   "cell_type": "markdown",
   "metadata": {},
   "source": [
    "Задача 2\n",
    "\n",
    "Вероятность попадания в цель при одном выстреле равна 0.01. Какова вероятность того, что число попаданий при 200 выстрелах будет не менее 5 и не более 10?\n",
    "\n",
    "\n"
   ]
  },
  {
   "cell_type": "code",
   "execution_count": 2,
   "metadata": {},
   "outputs": [],
   "source": [
    "def p_puasson(a:float, k:int):\n",
    "    return (a ** k) * (np.exp(-a)) / fc(k)"
   ]
  },
  {
   "cell_type": "code",
   "execution_count": 23,
   "metadata": {},
   "outputs": [
    {
     "name": "stdout",
     "output_type": "stream",
     "text": [
      "a =  2.0\n"
     ]
    },
    {
     "data": {
      "text/plain": [
       "0.052644709119342686"
      ]
     },
     "execution_count": 23,
     "metadata": {},
     "output_type": "execute_result"
    }
   ],
   "source": [
    "p = 0.01\n",
    "n = 200\n",
    "a = n * p \n",
    "k1 = 5\n",
    "k2 = 10\n",
    "print (\"a = \", a)\n",
    "P = 0\n",
    "for i in range(5,11):\n",
    "    P += p_puasson(a, i)\n",
    "P"
   ]
  },
  {
   "cell_type": "markdown",
   "metadata": {},
   "source": [
    "Задача 3\n",
    "\n",
    "В условиях предыдущей задачи сколько выстрелов нужно сделать чтобы быть уверенным с вероятностью 0.9, что хотя бы 10 раз будет совершено попадание?\n",
    "\n",
    "Подсказка. Как посчитать P(X >= k) для величины X, имеющей распределение Пуассона? Здесь предстоит немножко покодить."
   ]
  },
  {
   "cell_type": "code",
   "execution_count": 9,
   "metadata": {},
   "outputs": [
    {
     "name": "stdout",
     "output_type": "stream",
     "text": [
      "1421  выстрелов,  p =  0.9001760722984115\n"
     ]
    }
   ],
   "source": [
    "p = 0.01\n",
    "k = 10\n",
    "p_i = 0\n",
    "k_i = 0\n",
    "for n in range(9,2000):\n",
    "    a = n * p \n",
    "    k_i = n\n",
    "    \n",
    "    P = 0\n",
    "    for i in range(0,10): #считаем вероятность того что будет от 0 до 9 попаданий\n",
    "        P += p_puasson(a, i)\n",
    "    p_i = 1 - P # вероятночть обратная посчитанной \n",
    "    \n",
    "    if p_i >= 0.9:\n",
    "        break\n",
    "print(k_i, \" выстрелов,  p = \", p_i)\n",
    "    "
   ]
  }
 ],
 "metadata": {
  "kernelspec": {
   "display_name": "Python 3",
   "language": "python",
   "name": "python3"
  },
  "language_info": {
   "codemirror_mode": {
    "name": "ipython",
    "version": 3
   },
   "file_extension": ".py",
   "mimetype": "text/x-python",
   "name": "python",
   "nbconvert_exporter": "python",
   "pygments_lexer": "ipython3",
   "version": "3.7.3"
  }
 },
 "nbformat": 4,
 "nbformat_minor": 2
}
